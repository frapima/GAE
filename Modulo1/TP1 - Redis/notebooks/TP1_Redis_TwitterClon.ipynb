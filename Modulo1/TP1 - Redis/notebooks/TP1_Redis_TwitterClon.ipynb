{
 "cells": [
  {
   "cell_type": "markdown",
   "metadata": {},
   "source": [
    "# TP1 - Redis"
   ]
  },
  {
   "cell_type": "markdown",
   "metadata": {},
   "source": [
    "## Conexión a nuestra Base de Datos Redis"
   ]
  },
  {
   "cell_type": "code",
   "execution_count": 1,
   "metadata": {},
   "outputs": [],
   "source": [
    "import redis"
   ]
  },
  {
   "cell_type": "code",
   "execution_count": 2,
   "metadata": {},
   "outputs": [],
   "source": [
    "redis_db = redis.Redis(host='127.0.0.1', port=6379, password='')"
   ]
  },
  {
   "cell_type": "code",
   "execution_count": 3,
   "metadata": {},
   "outputs": [
    {
     "data": {
      "text/plain": [
       "True"
      ]
     },
     "execution_count": 3,
     "metadata": {},
     "output_type": "execute_result"
    }
   ],
   "source": [
    "redis_db.flushdb()"
   ]
  },
  {
   "cell_type": "markdown",
   "metadata": {},
   "source": [
    "## Implementación"
   ]
  },
  {
   "cell_type": "markdown",
   "metadata": {},
   "source": [
    "### 1. Diseño de la base de datos"
   ]
  },
  {
   "cell_type": "markdown",
   "metadata": {},
   "source": [
    "Funciones de apoyo"
   ]
  },
  {
   "cell_type": "code",
   "execution_count": 4,
   "metadata": {},
   "outputs": [],
   "source": [
    "def get_user_id_or_name(user_name_or_id):\n",
    "    return redis_db.hget('users', user_name_or_id)"
   ]
  },
  {
   "cell_type": "markdown",
   "metadata": {},
   "source": [
    "Funciones requeridas por el ejercicio"
   ]
  },
  {
   "cell_type": "code",
   "execution_count": 5,
   "metadata": {},
   "outputs": [],
   "source": [
    "def nuevo_usuario(username):\n",
    "    if get_user_id_or_name(username) is None:\n",
    "        userid = redis_db.incr('user_id')\n",
    "        redis_db.hmset('users', {\n",
    "            username: userid,\n",
    "            userid: username\n",
    "        })"
   ]
  },
  {
   "cell_type": "code",
   "execution_count": 6,
   "metadata": {},
   "outputs": [],
   "source": [
    "def nuevo_follower(followed_username, follower_username, timestamp):\n",
    "    \n",
    "    followed_id = get_user_id_or_name(followed_username)\n",
    "    follower_id = get_user_id_or_name(follower_username)\n",
    "    \n",
    "    if followed_id is None or follower_id is None:\n",
    "        return False\n",
    "    \n",
    "    followed_id = followed_id.decode('utf-8')\n",
    "    follower_id = follower_id.decode('utf-8')\n",
    "    \n",
    "    redis_db.zadd('user:' + followed_id + ':followers', {follower_id: timestamp})\n",
    "    \n",
    "    return True"
   ]
  },
  {
   "cell_type": "code",
   "execution_count": 7,
   "metadata": {},
   "outputs": [],
   "source": [
    "def nuevo_following(follower_username, followed_username, timestamp):\n",
    "    \n",
    "    followed_id = get_user_id_or_name(followed_username)\n",
    "    follower_id = get_user_id_or_name(follower_username)\n",
    "    \n",
    "    if followed_id is None or follower_id is None:\n",
    "        return False\n",
    "    \n",
    "    followed_id = followed_id.decode('utf-8')\n",
    "    follower_id = follower_id.decode('utf-8')\n",
    "    \n",
    "    redis_db.zadd('user:' + follower_id + ':following', {followed_id: timestamp})\n",
    "    \n",
    "    return True"
   ]
  },
  {
   "cell_type": "code",
   "execution_count": 8,
   "metadata": {},
   "outputs": [],
   "source": [
    "def seguir(follower, followed, timestamp):\n",
    "    return nuevo_follower(followed, follower, timestamp) and nuevo_following(follower, followed, timestamp)"
   ]
  },
  {
   "cell_type": "code",
   "execution_count": 9,
   "metadata": {},
   "outputs": [],
   "source": [
    "def nuevo_post(username, message, timestamp):\n",
    "    postid = str(redis_db.incr('post_id'))\n",
    "    \n",
    "    userid = get_user_id_or_name(username)\n",
    "    \n",
    "    if userid is None:\n",
    "        return False\n",
    "    \n",
    "    userid = userid.decode('utf-8')\n",
    "    \n",
    "    redis_db.hmset('post:' + postid, {\n",
    "        'timestamp': timestamp,\n",
    "        'userid': userid,\n",
    "        'message': message\n",
    "    })\n",
    "    \n",
    "    redis_db.set('post_' + postid + '_timeline', timestamp)\n",
    "    \n",
    "    redis_db.sadd('user:' + userid + ':posts', postid)\n",
    "    \n",
    "    follower_ids = redis_db.zrange('user:' + userid + ':followers', 0, -1)\n",
    "    \n",
    "    for follower_id in follower_ids:\n",
    "        follower_id = str(follower_id.decode('utf-8'))\n",
    "        redis_db.sadd('user:' + follower_id + ':posts', postid)\n",
    "    \n",
    "    "
   ]
  },
  {
   "cell_type": "markdown",
   "metadata": {},
   "source": [
    "### 2. Conjunto de datos"
   ]
  },
  {
   "cell_type": "code",
   "execution_count": 10,
   "metadata": {},
   "outputs": [],
   "source": [
    "import pandas as pd\n",
    "import numpy as np\n",
    "import os"
   ]
  },
  {
   "cell_type": "code",
   "execution_count": 11,
   "metadata": {},
   "outputs": [],
   "source": [
    "tweets = pd.read_csv(\n",
    "    filepath_or_buffer=os.path.join('..', 'data', 'twitter_sample.csv'), \n",
    "    header=0, \n",
    "    sep=',', \n",
    "    quotechar='\"', \n",
    "    encoding='utf-8'\n",
    ")\n",
    "\n",
    "relations = pd.read_csv(\n",
    "    filepath_or_buffer=os.path.join('..', 'data','relations.csv'), \n",
    "    header=0, \n",
    "    sep=',', \n",
    "    encoding='utf-8'\n",
    ")"
   ]
  },
  {
   "cell_type": "markdown",
   "metadata": {},
   "source": [
    "En primera instancia, vamos a crear todos los usuarios, puesto que asumimos que todos ya existían"
   ]
  },
  {
   "cell_type": "code",
   "execution_count": 12,
   "metadata": {},
   "outputs": [
    {
     "data": {
      "text/plain": [
       "array(['andyglittle', 'afparron', 'drshahrul80', 'karin_stowell',\n",
       "       'cathcooney', 'dkalnow', 'alkhalilkouma', 'seers_helen',\n",
       "       'hanyshita', nan, 'roxanefeller', 'animalhealthEU', 'charleskod'],\n",
       "      dtype=object)"
      ]
     },
     "execution_count": 12,
     "metadata": {},
     "output_type": "execute_result"
    }
   ],
   "source": [
    "tweets['User'].unique()"
   ]
  },
  {
   "cell_type": "code",
   "execution_count": 13,
   "metadata": {},
   "outputs": [
    {
     "data": {
      "text/plain": [
       "13"
      ]
     },
     "execution_count": 13,
     "metadata": {},
     "output_type": "execute_result"
    }
   ],
   "source": [
    "tweets['User'].unique().size"
   ]
  },
  {
   "cell_type": "code",
   "execution_count": 14,
   "metadata": {},
   "outputs": [
    {
     "data": {
      "text/html": [
       "<div>\n",
       "<style scoped>\n",
       "    .dataframe tbody tr th:only-of-type {\n",
       "        vertical-align: middle;\n",
       "    }\n",
       "\n",
       "    .dataframe tbody tr th {\n",
       "        vertical-align: top;\n",
       "    }\n",
       "\n",
       "    .dataframe thead th {\n",
       "        text-align: right;\n",
       "    }\n",
       "</style>\n",
       "<table border=\"1\" class=\"dataframe\">\n",
       "  <thead>\n",
       "    <tr style=\"text-align: right;\">\n",
       "      <th></th>\n",
       "      <th>User</th>\n",
       "      <th>Post_Time</th>\n",
       "      <th>Tweet_Content</th>\n",
       "      <th>Unnamed: 3</th>\n",
       "    </tr>\n",
       "  </thead>\n",
       "  <tbody>\n",
       "    <tr>\n",
       "      <th>14</th>\n",
       "      <td>NaN</td>\n",
       "      <td>02 Jul 2019 20:56:39</td>\n",
       "      <td>@stemagno74 @wcrfint @macmillancancer @NIHRres...</td>\n",
       "      <td>NaN</td>\n",
       "    </tr>\n",
       "  </tbody>\n",
       "</table>\n",
       "</div>"
      ],
      "text/plain": [
       "   User             Post_Time  \\\n",
       "14  NaN  02 Jul 2019 20:56:39   \n",
       "\n",
       "                                        Tweet_Content Unnamed: 3  \n",
       "14  @stemagno74 @wcrfint @macmillancancer @NIHRres...        NaN  "
      ]
     },
     "execution_count": 14,
     "metadata": {},
     "output_type": "execute_result"
    }
   ],
   "source": [
    "tweets[tweets['User'].isna()]"
   ]
  },
  {
   "cell_type": "code",
   "execution_count": 15,
   "metadata": {},
   "outputs": [],
   "source": [
    "tweets.drop(index=14, inplace=True)"
   ]
  },
  {
   "cell_type": "code",
   "execution_count": 16,
   "metadata": {},
   "outputs": [],
   "source": [
    "def create_users_from_tweets(tweets):\n",
    "    users = tweets['User'].unique()\n",
    "    for user in users:\n",
    "        nuevo_usuario(user)"
   ]
  },
  {
   "cell_type": "code",
   "execution_count": 17,
   "metadata": {},
   "outputs": [],
   "source": [
    "create_users_from_tweets(tweets)"
   ]
  },
  {
   "cell_type": "code",
   "execution_count": 18,
   "metadata": {},
   "outputs": [
    {
     "data": {
      "text/plain": [
       "'4'"
      ]
     },
     "execution_count": 18,
     "metadata": {},
     "output_type": "execute_result"
    }
   ],
   "source": [
    "redis_db.hget('users', 'karin_stowell').decode('utf-8')"
   ]
  },
  {
   "cell_type": "code",
   "execution_count": 19,
   "metadata": {},
   "outputs": [
    {
     "data": {
      "text/plain": [
       "12"
      ]
     },
     "execution_count": 19,
     "metadata": {},
     "output_type": "execute_result"
    }
   ],
   "source": [
    "relations['User'].unique().size"
   ]
  },
  {
   "cell_type": "code",
   "execution_count": 20,
   "metadata": {},
   "outputs": [
    {
     "data": {
      "text/plain": [
       "12"
      ]
     },
     "execution_count": 20,
     "metadata": {},
     "output_type": "execute_result"
    }
   ],
   "source": [
    "relations['Follows'].unique().size"
   ]
  },
  {
   "cell_type": "code",
   "execution_count": 21,
   "metadata": {},
   "outputs": [],
   "source": [
    "from datetime import datetime as dt\n",
    "\n",
    "date_format = '%d %b %Y %H:%M:%S'"
   ]
  },
  {
   "cell_type": "code",
   "execution_count": 22,
   "metadata": {},
   "outputs": [],
   "source": [
    "def from_date_to_timestamp(date):\n",
    "    return int(dt.strptime(date, date_format).timestamp())"
   ]
  },
  {
   "cell_type": "code",
   "execution_count": 23,
   "metadata": {},
   "outputs": [],
   "source": [
    "def from_timestamp_to_date(timestamp):\n",
    "    return dt.fromtimestamp(timestamp).strftime(date_format)"
   ]
  },
  {
   "cell_type": "code",
   "execution_count": 24,
   "metadata": {},
   "outputs": [],
   "source": [
    "def create_relations(relations):\n",
    "    for i, relation in relations.iterrows():\n",
    "        seguir(relation['User'], relation['Follows'], from_date_to_timestamp(relation['Following_Time']))"
   ]
  },
  {
   "cell_type": "code",
   "execution_count": 25,
   "metadata": {},
   "outputs": [],
   "source": [
    "create_relations(relations)"
   ]
  },
  {
   "cell_type": "code",
   "execution_count": 26,
   "metadata": {},
   "outputs": [],
   "source": [
    "def create_posts(tweets):\n",
    "    for i, tweet in tweets.iterrows():\n",
    "        nuevo_post(tweet['User'], tweet['Tweet_Content'], from_date_to_timestamp(tweet['Post_Time']))"
   ]
  },
  {
   "cell_type": "code",
   "execution_count": 27,
   "metadata": {},
   "outputs": [],
   "source": [
    "create_posts(tweets)"
   ]
  },
  {
   "cell_type": "markdown",
   "metadata": {},
   "source": [
    "### 3. Pruebas"
   ]
  },
  {
   "cell_type": "code",
   "execution_count": 28,
   "metadata": {},
   "outputs": [],
   "source": [
    "def obtener_followers(username):\n",
    "    iduser = get_user_id_or_name(username)\n",
    "    follower_ids = redis_db.zscan('user:' + iduser.decode('utf-8') + ':followers')[1]\n",
    "    print('El usuario ' + username + ' tiene ' + str(len(follower_ids)) + ' followers:\\n')\n",
    "    for follower in follower_ids:\n",
    "        print(get_user_id_or_name(follower[0].decode('utf-8')).decode('utf-8'), 'empezó a seguirle el', from_timestamp_to_date(follower[1]))\n",
    "    "
   ]
  },
  {
   "cell_type": "code",
   "execution_count": 29,
   "metadata": {},
   "outputs": [
    {
     "name": "stdout",
     "output_type": "stream",
     "text": [
      "El usuario drshahrul80 tiene 3 followers:\n",
      "\n",
      "animalhealthEU empezó a seguirle el 19 Jul 2019 14:59:55\n",
      "alkhalilkouma empezó a seguirle el 01 Aug 2019 12:17:59\n",
      "karin_stowell empezó a seguirle el 01 Aug 2019 21:58:25\n"
     ]
    }
   ],
   "source": [
    "obtener_followers('drshahrul80')"
   ]
  },
  {
   "cell_type": "code",
   "execution_count": 30,
   "metadata": {},
   "outputs": [],
   "source": [
    "def obtener_following(username):\n",
    "    iduser = get_user_id_or_name(username)\n",
    "    following_ids = redis_db.zscan('user:' + iduser.decode('utf-8') + ':following')[1]\n",
    "    print('El usuario ' + username + ' sigue a ' + str(len(following_ids)) + ' usuarios:\\n')\n",
    "    for following in following_ids:\n",
    "        print('A', get_user_id_or_name(following[0].decode('utf-8')).decode('utf-8'), 'empezó a seguirle el', from_timestamp_to_date(following[1]))\n",
    "    "
   ]
  },
  {
   "cell_type": "code",
   "execution_count": 31,
   "metadata": {},
   "outputs": [
    {
     "name": "stdout",
     "output_type": "stream",
     "text": [
      "El usuario alkhalilkouma sigue a 2 usuarios:\n",
      "\n",
      "A animalhealthEU empezó a seguirle el 01 Jul 2019 19:25:03\n",
      "A drshahrul80 empezó a seguirle el 01 Aug 2019 12:17:59\n"
     ]
    }
   ],
   "source": [
    "obtener_following('alkhalilkouma')"
   ]
  },
  {
   "cell_type": "code",
   "execution_count": 64,
   "metadata": {},
   "outputs": [],
   "source": [
    "def obtener_timeline(username, tweets_propios=True):\n",
    "    iduser = get_user_id_or_name(username).decode('utf-8')\n",
    "    posts = redis_db.sort('user:' + iduser + ':posts', by='post_*_timeline', desc=True)\n",
    "    for post in posts:\n",
    "        id_post = post.decode('utf-8')\n",
    "        id_user_post = redis_db.hget('post:' + str(id_post), 'userid').decode('utf-8')\n",
    "        name_user_post = str(get_user_id_or_name(id_user_post).decode('utf-8'))\n",
    "        timestamp_post = str(from_timestamp_to_date(int(redis_db.hget('post:' + str(id_post), 'timestamp').decode('utf-8'))))\n",
    "        message_post = redis_db.hget('post:' + str(id_post), 'message').decode('utf-8')\n",
    "        if(id_user_post == iduser or not tweets_propios):\n",
    "            print('- [' + timestamp_post + ']' + \n",
    "                  ' El usuario ' + name_user_post + \n",
    "                  ' twitteó: ' + message_post)\n",
    "    "
   ]
  },
  {
   "cell_type": "code",
   "execution_count": 65,
   "metadata": {},
   "outputs": [
    {
     "name": "stdout",
     "output_type": "stream",
     "text": [
      "- [28 Aug 2019 12:17:59] El usuario alkhalilkouma twitteó: Zoonosen sind ein Risiko für Mensch und Tier❗️💉🐶🐱🐷🐮🐔\n",
      "#Impfung #Tiergesundheit #AnimalHealthMatters #PetsareFamily #MorethanMedicine #zoonoses #Zoonosen https://t.co/uM5e2Asd5K\n",
      "- [22 Aug 2019 12:12:50] El usuario alkhalilkouma twitteó: @somedocs - Sharing experiences &amp; medical knowledge which should be available to all #FOAMed #MedEd \n",
      "- Being a good human (ie. Conveying values of respect, trust &amp; honesty) #morethanmedicine \n",
      "- Tips &amp; tricks in #education to better help whatever your profession is\n",
      "\n",
      "@EMinMiami (👈 this guy)\n",
      "- [25 Jul 2019 09:35:25] El usuario alkhalilkouma twitteó: Proud carer of three stray #dogs who are now part of the family, Uwe Mucke from @Bayer4Animals, shares his story of more than 30 years working in #animalhealth.\n",
      "#MorethanMedicine:\n",
      "https://t.co/aAO0qzLtUq\n",
      "- [21 Jul 2019 13:40:46] El usuario alkhalilkouma twitteó: Some diseases that animals are affected by, can be a risk for people too ⚠️\n",
      "\n",
      "➡️ Keeping animals healthy also helps to protect your health #MorethanMedicine https://t.co/xpljC60aFL\n",
      "- [13 Jul 2019 22:55:08] El usuario alkhalilkouma twitteó: Family, friends AND furry friends are all welcome to take part in our annual 6 mile sponsored walk on Sat 12 Oct from central Bristol, through the harbour, under the Suspension Bridge and along to our National Centre in Pill. https://t.co/ddnrNCnBXa #stomp2019 #morethanmedicine https://t.co/XKfxFeKIEg\n",
      "- [12 Jul 2019 11:41:24] El usuario alkhalilkouma twitteó: @SP_HealthSport is doing an inquiry looking at social prescribing’s ability to address physical and mental wellbeing issues across Scotland. One for @HoCScot to feed in on? #MorethanMedicine @MargaretMcKeith @cathcooney @IanMWelsh @KramerGraham @YearofCare @LynneInnes1 @WaqaVicki\n",
      "- [07 Jul 2019 22:15:01] El usuario alkhalilkouma twitteó: Listen as @MOX13 @andyglittle sit down w/ @APacitti @JohnCaseyDO to discuss truth verses dogma surrounding the 10,000 hour rule. \n",
      "\n",
      "#DeliberatePractice\n",
      "\n",
      "https://t.co/aH762kkLOI\n",
      "\n",
      "#MoreThanMedicine #Coaching #SoMeDocs #TipsForNewDocs https://t.co/qLwCTC8rml\n",
      "- [01 Jul 2019 15:06:35] El usuario alkhalilkouma twitteó: @animalhealthEU’s campaign #MorethanMedicine is kicking off today, showcasing the benefits of animal health solutions. For us, ensuring good #animalhealth is vital for the good welfare they deserve, as their health is just as important as ours!\n"
     ]
    }
   ],
   "source": [
    "obtener_timeline('alkhalilkouma', True)"
   ]
  }
 ],
 "metadata": {
  "kernelspec": {
   "display_name": "Python 3",
   "language": "python",
   "name": "python3"
  },
  "language_info": {
   "codemirror_mode": {
    "name": "ipython",
    "version": 3
   },
   "file_extension": ".py",
   "mimetype": "text/x-python",
   "name": "python",
   "nbconvert_exporter": "python",
   "pygments_lexer": "ipython3",
   "version": "3.8.2"
  }
 },
 "nbformat": 4,
 "nbformat_minor": 4
}
