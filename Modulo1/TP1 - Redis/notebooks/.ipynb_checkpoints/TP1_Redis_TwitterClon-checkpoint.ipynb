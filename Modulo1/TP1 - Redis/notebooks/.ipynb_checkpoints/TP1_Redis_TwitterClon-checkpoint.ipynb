{
 "cells": [
  {
   "cell_type": "markdown",
   "metadata": {},
   "source": [
    "# TP1 - Redis - Francisco Javier Piqueras Martínez"
   ]
  },
  {
   "cell_type": "markdown",
   "metadata": {},
   "source": [
    "En este trabajo práctico se va a diseñar e implementar una base de datos clave-valor utilizando Redis para la gestión de un servicio de microblogging similar a Twitter. El objetivo es familiarizarse con la utilización de bases de datos clave-valor como Redis y comprobar que sus estructuras permiten construir modelos de datos efectivos para implementar muchos tipos de aplicaciones."
   ]
  },
  {
   "cell_type": "markdown",
   "metadata": {},
   "source": [
    "## Conexión a nuestra Base de Datos Redis"
   ]
  },
  {
   "cell_type": "markdown",
   "metadata": {},
   "source": [
    "En primer lugar, realizamos la conexión a la Base de Datos Redis, y guardamos ésta en una variable global llamada `redis_db`. Se hará uso de esta **variable global** durante la realización de la práctica para toda interacción que necesitemos con nuestra base de datos Redis."
   ]
  },
  {
   "cell_type": "code",
   "execution_count": 1,
   "metadata": {},
   "outputs": [],
   "source": [
    "import redis"
   ]
  },
  {
   "cell_type": "code",
   "execution_count": 2,
   "metadata": {},
   "outputs": [],
   "source": [
    "redis_db = redis.Redis(host='127.0.0.1', port=6379, password='')"
   ]
  },
  {
   "cell_type": "markdown",
   "metadata": {},
   "source": [
    "Hacemos un flush para que esta se limpie cada vez que reiniciamos el kernel."
   ]
  },
  {
   "cell_type": "code",
   "execution_count": 3,
   "metadata": {},
   "outputs": [
    {
     "data": {
      "text/plain": [
       "True"
      ]
     },
     "execution_count": 3,
     "metadata": {},
     "output_type": "execute_result"
    }
   ],
   "source": [
    "redis_db.flushdb()"
   ]
  },
  {
   "cell_type": "markdown",
   "metadata": {},
   "source": [
    "## Implementación"
   ]
  },
  {
   "cell_type": "markdown",
   "metadata": {},
   "source": [
    "Las funciones a implementar para construir nuestra base de datos clave-valor en Redis que imite el funcionamiento de Twitter son las siguientes:\n",
    "\n",
    "Tanto para estas funciones como para las que se definirán en el apartado de “Pruebas”, se puede añadir como parámetro adicional de la función la propia base de datos creada con la función mostrada en el apartado 2, o utilizar una única variable global dentro de las funciones para las llamadas a la misma. Se pide documentar claramente cuál de las dos opciones se utiliza.\n",
    "\n",
    "> En este caso se ha optado hacer uso de una **variable global**\n",
    "\n"
   ]
  },
  {
   "cell_type": "markdown",
   "metadata": {},
   "source": [
    "### 1. Diseño de la base de datos"
   ]
  },
  {
   "cell_type": "markdown",
   "metadata": {},
   "source": [
    "Funciones adicionales para su uso:\n",
    "- **get_user_id_or_name**: Esta función recibe el id o el username de un usuario, y devuelve el complementario. Es decir, si recibe el id de vuelve el username y si recibe el username devuelve el id.\n",
    "\n",
    "Lo que hace es decodificarlo a utf-8 para evitar así el uso de esta función de forma recurrente en el código."
   ]
  },
  {
   "cell_type": "code",
   "execution_count": 5,
   "metadata": {},
   "outputs": [],
   "source": [
    "def get_user_id_or_name(user_name_or_id):\n",
    "    _ret = redis_db.hget('users', user_name_or_id)\n",
    "    if ret is not None:\n",
    "        _ret = _ret.decode('utf-8')\n",
    "    return _ret"
   ]
  },
  {
   "cell_type": "markdown",
   "metadata": {},
   "source": [
    "Funciones requeridas por el ejercicio"
   ]
  },
  {
   "cell_type": "markdown",
   "metadata": {},
   "source": [
    "- **nuevo_usuario**: Esta función recibirá el nombre del nuevo usuario y generará una nueva entrada en la base de datos utilizando un identificador incremental (proporcionado por Redis) para cada usuario. Este identificador incremental se puede utilizar para diferenciar cada una de las claves que contengan usuarios, de tal manera que dichas claves sean similares a la siguiente: “user:id”, donde “id” es el identificador del usuario. Para cada usuario deberemos almacenar su nombre. De la misma forma se recomienda almacenar todos los usuarios y sus identificadores dentro de una misma estructura de datos única cuya clave puede ser “users”."
   ]
  },
  {
   "cell_type": "markdown",
   "metadata": {},
   "source": [
    "Adicionalmente, se ha hecho la comprobación de que dicho usuario no existiera previamente en la base de datos, en tal caso, no lo añadimos ya que el `username` debe ser único."
   ]
  },
  {
   "cell_type": "code",
   "execution_count": 8,
   "metadata": {},
   "outputs": [],
   "source": [
    "def nuevo_usuario(username):\n",
    "    if get_user_id_or_name(username) is None:\n",
    "        userid = redis_db.incr('user_id')\n",
    "        redis_db.hmset('users', {\n",
    "            username: userid,\n",
    "            userid: username\n",
    "        })\n",
    "        return True\n",
    "    else:\n",
    "        return False"
   ]
  },
  {
   "cell_type": "markdown",
   "metadata": {},
   "source": [
    "- **nuevo_follower**: Una de las funcionalidades básicas de Twitter es la posibilidad de seguir a usuarios ya existentes. Para implementar esta funcionalidad crearemos la función “nuevo_follower”, que recibirá el nombre de un usuario y el nombre del usuario que se convertirá en “follower” (seguidor) del primero, así como un “timestamp”. Se recomienda utilizar nombres de clave similares a las utilizadas para los usuarios, de la forma “followers:id”, donde “id” será el identificador del usuario. Esta estructura de datos contendrá, para cada usuario, un conjunto de tuplas. En cada tupla se almacenará el identificador de un “follower” y el “timestamp” que representa el momento que le empezó a seguir."
   ]
  },
  {
   "cell_type": "markdown",
   "metadata": {},
   "source": [
    "Adicionalmente, se ha hecho la comprobación de que ambos usuarios existe en la base de datos, en caso contrario, no creamos el follower y devolvemos `False`.\n",
    "\n",
    "La estructura de la clave va a ser la siguiente:\n",
    "``user:[user_id]:followers``\n",
    "El valor va a consistir en un *ordered set* cuya variable *score* va a ser el `timestamp`. De esta forma, todos los followers van a permanecer ordenados en el tiempo para el usuario en cuestión. "
   ]
  },
  {
   "cell_type": "code",
   "execution_count": 10,
   "metadata": {},
   "outputs": [],
   "source": [
    "def nuevo_follower(followed_username, follower_username, timestamp):\n",
    "    \n",
    "    followed_id = get_user_id_or_name(followed_username)\n",
    "    follower_id = get_user_id_or_name(follower_username)\n",
    "    \n",
    "    if followed_id is None or follower_id is None:\n",
    "        return False\n",
    "    \n",
    "    redis_db.zadd('user:' + followed_id + ':followers', {follower_id: timestamp})\n",
    "    \n",
    "    return True"
   ]
  },
  {
   "cell_type": "markdown",
   "metadata": {},
   "source": [
    "- **nuevo_following**: Mediante esta función contraria a la función anterior, almacenaremos los usuarios seguidos por un usuario concreto. Recibe también un usuario original, el usuario a seguir y un “timestamp”. La estructura de datos utilizada será similar, y su clave puede tener la forma “following:[id]”, donde “id” es el identificador del usuario original. Se almacenarán igualmente para cada usuario, los identificadores de los usuarios a los que sigue y el momento en el que se les empezó a seguir."
   ]
  },
  {
   "cell_type": "markdown",
   "metadata": {},
   "source": [
    "Adicionalmente, se ha hecho la comprobación de que ambos usuarios existe en la base de datos, en caso contrario, no creamos el followed y devolvemos `False`.\n",
    "\n",
    "La estructura de la clave va a ser la siguiente:\n",
    "``user:[user_id]:following``\n",
    "El valor va a consistir en un *ordered set* cuya variable *score* va a ser el `timestamp`. De esta forma, todos los seguidos van a permanecer ordenados en el tiempo para el usuario en cuestión. "
   ]
  },
  {
   "cell_type": "code",
   "execution_count": 11,
   "metadata": {},
   "outputs": [],
   "source": [
    "def nuevo_following(follower_username, followed_username, timestamp):\n",
    "    \n",
    "    followed_id = get_user_id_or_name(followed_username)\n",
    "    follower_id = get_user_id_or_name(follower_username)\n",
    "    \n",
    "    if followed_id is None or follower_id is None:\n",
    "        return False\n",
    "    \n",
    "    followed_id = followed_id.decode('utf-8')\n",
    "    follower_id = follower_id.decode('utf-8')\n",
    "    \n",
    "    redis_db.zadd('user:' + follower_id + ':following', {followed_id: timestamp})\n",
    "    \n",
    "    return True"
   ]
  },
  {
   "cell_type": "markdown",
   "metadata": {},
   "source": [
    "- **seguir**: La función “seguir” recibirá un usuario original, un usuario a seguir, y un “timestamp” y hará uso de las dos funciones auxiliares anteriores para actualizar la información relativa al “follower” y a los “followings” del usuario original. Las funciones anteriores (nuevo_follower y nuevo_following) sólo podrán ser llamadas desde esta función, nunca de forma directa."
   ]
  },
  {
   "cell_type": "markdown",
   "metadata": {},
   "source": [
    "Adicinalmente, devuelve `False` si alguna de las funciones invocadas devuelve `False` debido a que alguno de los usuarios no existe en la base de datos Redis."
   ]
  },
  {
   "cell_type": "code",
   "execution_count": 8,
   "metadata": {},
   "outputs": [],
   "source": [
    "def seguir(follower, followed, timestamp):\n",
    "    return nuevo_follower(followed, follower, timestamp) and nuevo_following(follower, followed, timestamp)"
   ]
  },
  {
   "cell_type": "markdown",
   "metadata": {},
   "source": [
    "- **nuevo_post**: Esta función nos permitirá incluir nuevos mensajes en nuestra base de datos. Recibirá como parámetros el usuario que crea el mensaje, el cuerpo del mensaje y un “timestamp” representando el momento de creación del mensaje. Para cada mensaje se creará una clave cuyo nombre siga la estructura ya utilizada: “post:idPost”, donde “idPost” será un contador incremental distinto al utilizado para los usuarios. Esta estructura contendrá, para cada post, el identificador del usuario que lo ha creado, el momento de su creación y el cuerpo del mensaje. Además, para una mejor gestión de los posts, se creará otra estructura “posts:[id]”, donde “id” será un identificador de usuario. En esta estructura almacenaremos la lista de “idPost” de todos los posts pertenecientes a este usuario. Es importante que esta lista no sólo almacene los posts creados por el usuario, sino también los creados por sus “followings” (usuarios a los que sigue), para una mejor gestión posterior del acceso a los posts."
   ]
  },
  {
   "cell_type": "markdown",
   "metadata": {},
   "source": [
    "Como en las anteriores funciones se ha hecho, si el usuario en cuestión no existe, esta función no realiza su funcionalidad y devuelve un `False`.\n",
    "\n",
    "Para guardar toda la información relativa a un post, se ha utilizado la siguiente estructura de clave: `post:[post_id]` cuyo valor es un *hash map*, cuyas claves para guardar la información relativa al post son las siguientes: `timestamp`, `userid` y `message`.\n",
    "\n",
    "Para guardar la relación entre el usuario y los posts que debe visualizar en su timeline, se ha utilizado la siguiente estructura de clave: `user:[user_id]:posts` cuyo valor es un conjunto no ordenado de identificadores de post tanto del usuario autor del post como de cualquiera de sus *followers*\n",
    "\n",
    "Adicionalmente, para poder ordenar los post cuando estos sean extraídos de la base de datos, se guarda la información relativa al `timeline` siguiendo el siguiente patrón como clave: `post_[post_id]_timeline`cuyo valor es el valor del `timeline` de dicho post."
   ]
  },
  {
   "cell_type": "code",
   "execution_count": 13,
   "metadata": {},
   "outputs": [],
   "source": [
    "def nuevo_post(username, message, timestamp):\n",
    "    postid = str(redis_db.incr('post_id'))\n",
    "    \n",
    "    userid = get_user_id_or_name(username)\n",
    "    \n",
    "    if userid is None:\n",
    "        return False\n",
    "    \n",
    "    redis_db.hmset('post:' + postid, {\n",
    "        'timestamp': timestamp,\n",
    "        'userid': userid,\n",
    "        'message': message\n",
    "    })\n",
    "    \n",
    "    redis_db.set('post_' + postid + '_timeline', timestamp)\n",
    "    \n",
    "    redis_db.sadd('user:' + userid + ':posts', postid)\n",
    "    \n",
    "    follower_ids = redis_db.zrange('user:' + userid + ':followers', 0, -1)\n",
    "    \n",
    "    for follower_id in follower_ids:\n",
    "        follower_id = str(follower_id.decode('utf-8'))\n",
    "        redis_db.sadd('user:' + follower_id + ':posts', postid)\n",
    "    \n",
    "    "
   ]
  },
  {
   "cell_type": "markdown",
   "metadata": {},
   "source": [
    "### 2. Conjunto de datos"
   ]
  },
  {
   "cell_type": "code",
   "execution_count": 10,
   "metadata": {},
   "outputs": [],
   "source": [
    "import pandas as pd\n",
    "import numpy as np\n",
    "import os"
   ]
  },
  {
   "cell_type": "code",
   "execution_count": 11,
   "metadata": {},
   "outputs": [],
   "source": [
    "tweets = pd.read_csv(\n",
    "    filepath_or_buffer=os.path.join('..', 'data', 'twitter_sample.csv'), \n",
    "    header=0, \n",
    "    sep=',', \n",
    "    quotechar='\"', \n",
    "    encoding='utf-8'\n",
    ")\n",
    "\n",
    "relations = pd.read_csv(\n",
    "    filepath_or_buffer=os.path.join('..', 'data','relations.csv'), \n",
    "    header=0, \n",
    "    sep=',', \n",
    "    encoding='utf-8'\n",
    ")"
   ]
  },
  {
   "cell_type": "markdown",
   "metadata": {},
   "source": [
    "En primera instancia, vamos a crear todos los usuarios, puesto que asumimos que todos ya existían"
   ]
  },
  {
   "cell_type": "code",
   "execution_count": 12,
   "metadata": {},
   "outputs": [
    {
     "data": {
      "text/plain": [
       "array(['andyglittle', 'afparron', 'drshahrul80', 'karin_stowell',\n",
       "       'cathcooney', 'dkalnow', 'alkhalilkouma', 'seers_helen',\n",
       "       'hanyshita', nan, 'roxanefeller', 'animalhealthEU', 'charleskod'],\n",
       "      dtype=object)"
      ]
     },
     "execution_count": 12,
     "metadata": {},
     "output_type": "execute_result"
    }
   ],
   "source": [
    "tweets['User'].unique()"
   ]
  },
  {
   "cell_type": "code",
   "execution_count": 13,
   "metadata": {},
   "outputs": [
    {
     "data": {
      "text/plain": [
       "13"
      ]
     },
     "execution_count": 13,
     "metadata": {},
     "output_type": "execute_result"
    }
   ],
   "source": [
    "tweets['User'].unique().size"
   ]
  },
  {
   "cell_type": "code",
   "execution_count": 14,
   "metadata": {},
   "outputs": [
    {
     "data": {
      "text/html": [
       "<div>\n",
       "<style scoped>\n",
       "    .dataframe tbody tr th:only-of-type {\n",
       "        vertical-align: middle;\n",
       "    }\n",
       "\n",
       "    .dataframe tbody tr th {\n",
       "        vertical-align: top;\n",
       "    }\n",
       "\n",
       "    .dataframe thead th {\n",
       "        text-align: right;\n",
       "    }\n",
       "</style>\n",
       "<table border=\"1\" class=\"dataframe\">\n",
       "  <thead>\n",
       "    <tr style=\"text-align: right;\">\n",
       "      <th></th>\n",
       "      <th>User</th>\n",
       "      <th>Post_Time</th>\n",
       "      <th>Tweet_Content</th>\n",
       "      <th>Unnamed: 3</th>\n",
       "    </tr>\n",
       "  </thead>\n",
       "  <tbody>\n",
       "    <tr>\n",
       "      <th>14</th>\n",
       "      <td>NaN</td>\n",
       "      <td>02 Jul 2019 20:56:39</td>\n",
       "      <td>@stemagno74 @wcrfint @macmillancancer @NIHRres...</td>\n",
       "      <td>NaN</td>\n",
       "    </tr>\n",
       "  </tbody>\n",
       "</table>\n",
       "</div>"
      ],
      "text/plain": [
       "   User             Post_Time  \\\n",
       "14  NaN  02 Jul 2019 20:56:39   \n",
       "\n",
       "                                        Tweet_Content Unnamed: 3  \n",
       "14  @stemagno74 @wcrfint @macmillancancer @NIHRres...        NaN  "
      ]
     },
     "execution_count": 14,
     "metadata": {},
     "output_type": "execute_result"
    }
   ],
   "source": [
    "tweets[tweets['User'].isna()]"
   ]
  },
  {
   "cell_type": "code",
   "execution_count": 15,
   "metadata": {},
   "outputs": [],
   "source": [
    "tweets.drop(index=14, inplace=True)"
   ]
  },
  {
   "cell_type": "code",
   "execution_count": 16,
   "metadata": {},
   "outputs": [],
   "source": [
    "def create_users_from_tweets(tweets):\n",
    "    users = tweets['User'].unique()\n",
    "    for user in users:\n",
    "        nuevo_usuario(user)"
   ]
  },
  {
   "cell_type": "code",
   "execution_count": 17,
   "metadata": {},
   "outputs": [],
   "source": [
    "create_users_from_tweets(tweets)"
   ]
  },
  {
   "cell_type": "code",
   "execution_count": 18,
   "metadata": {},
   "outputs": [
    {
     "data": {
      "text/plain": [
       "'4'"
      ]
     },
     "execution_count": 18,
     "metadata": {},
     "output_type": "execute_result"
    }
   ],
   "source": [
    "redis_db.hget('users', 'karin_stowell').decode('utf-8')"
   ]
  },
  {
   "cell_type": "code",
   "execution_count": 19,
   "metadata": {},
   "outputs": [
    {
     "data": {
      "text/plain": [
       "12"
      ]
     },
     "execution_count": 19,
     "metadata": {},
     "output_type": "execute_result"
    }
   ],
   "source": [
    "relations['User'].unique().size"
   ]
  },
  {
   "cell_type": "code",
   "execution_count": 20,
   "metadata": {},
   "outputs": [
    {
     "data": {
      "text/plain": [
       "12"
      ]
     },
     "execution_count": 20,
     "metadata": {},
     "output_type": "execute_result"
    }
   ],
   "source": [
    "relations['Follows'].unique().size"
   ]
  },
  {
   "cell_type": "code",
   "execution_count": 21,
   "metadata": {},
   "outputs": [],
   "source": [
    "from datetime import datetime as dt\n",
    "\n",
    "date_format = '%d %b %Y %H:%M:%S'"
   ]
  },
  {
   "cell_type": "code",
   "execution_count": 22,
   "metadata": {},
   "outputs": [],
   "source": [
    "def from_date_to_timestamp(date):\n",
    "    return int(dt.strptime(date, date_format).timestamp())"
   ]
  },
  {
   "cell_type": "code",
   "execution_count": 23,
   "metadata": {},
   "outputs": [],
   "source": [
    "def from_timestamp_to_date(timestamp):\n",
    "    return dt.fromtimestamp(timestamp).strftime(date_format)"
   ]
  },
  {
   "cell_type": "code",
   "execution_count": 24,
   "metadata": {},
   "outputs": [],
   "source": [
    "def create_relations(relations):\n",
    "    for i, relation in relations.iterrows():\n",
    "        seguir(relation['User'], relation['Follows'], from_date_to_timestamp(relation['Following_Time']))"
   ]
  },
  {
   "cell_type": "code",
   "execution_count": 25,
   "metadata": {},
   "outputs": [],
   "source": [
    "create_relations(relations)"
   ]
  },
  {
   "cell_type": "code",
   "execution_count": 26,
   "metadata": {},
   "outputs": [],
   "source": [
    "def create_posts(tweets):\n",
    "    for i, tweet in tweets.iterrows():\n",
    "        nuevo_post(tweet['User'], tweet['Tweet_Content'], from_date_to_timestamp(tweet['Post_Time']))"
   ]
  },
  {
   "cell_type": "code",
   "execution_count": 27,
   "metadata": {},
   "outputs": [],
   "source": [
    "create_posts(tweets)"
   ]
  },
  {
   "cell_type": "markdown",
   "metadata": {},
   "source": [
    "### 3. Pruebas"
   ]
  },
  {
   "cell_type": "code",
   "execution_count": 28,
   "metadata": {},
   "outputs": [],
   "source": [
    "def obtener_followers(username):\n",
    "    iduser = get_user_id_or_name(username)\n",
    "    follower_ids = redis_db.zscan('user:' + iduser.decode('utf-8') + ':followers')[1]\n",
    "    print('El usuario ' + username + ' tiene ' + str(len(follower_ids)) + ' followers:\\n')\n",
    "    for follower in follower_ids:\n",
    "        print(get_user_id_or_name(follower[0].decode('utf-8')).decode('utf-8'), 'empezó a seguirle el', from_timestamp_to_date(follower[1]))\n",
    "    "
   ]
  },
  {
   "cell_type": "code",
   "execution_count": 29,
   "metadata": {},
   "outputs": [
    {
     "name": "stdout",
     "output_type": "stream",
     "text": [
      "El usuario drshahrul80 tiene 3 followers:\n",
      "\n",
      "animalhealthEU empezó a seguirle el 19 Jul 2019 14:59:55\n",
      "alkhalilkouma empezó a seguirle el 01 Aug 2019 12:17:59\n",
      "karin_stowell empezó a seguirle el 01 Aug 2019 21:58:25\n"
     ]
    }
   ],
   "source": [
    "obtener_followers('drshahrul80')"
   ]
  },
  {
   "cell_type": "code",
   "execution_count": 30,
   "metadata": {},
   "outputs": [],
   "source": [
    "def obtener_following(username):\n",
    "    iduser = get_user_id_or_name(username)\n",
    "    following_ids = redis_db.zscan('user:' + iduser.decode('utf-8') + ':following')[1]\n",
    "    print('El usuario ' + username + ' sigue a ' + str(len(following_ids)) + ' usuarios:\\n')\n",
    "    for following in following_ids:\n",
    "        print('A', get_user_id_or_name(following[0].decode('utf-8')).decode('utf-8'), 'empezó a seguirle el', from_timestamp_to_date(following[1]))\n",
    "    "
   ]
  },
  {
   "cell_type": "code",
   "execution_count": 31,
   "metadata": {},
   "outputs": [
    {
     "name": "stdout",
     "output_type": "stream",
     "text": [
      "El usuario alkhalilkouma sigue a 2 usuarios:\n",
      "\n",
      "A animalhealthEU empezó a seguirle el 01 Jul 2019 19:25:03\n",
      "A drshahrul80 empezó a seguirle el 01 Aug 2019 12:17:59\n"
     ]
    }
   ],
   "source": [
    "obtener_following('alkhalilkouma')"
   ]
  },
  {
   "cell_type": "code",
   "execution_count": 64,
   "metadata": {},
   "outputs": [],
   "source": [
    "def obtener_timeline(username, tweets_propios=True):\n",
    "    iduser = get_user_id_or_name(username).decode('utf-8')\n",
    "    posts = redis_db.sort('user:' + iduser + ':posts', by='post_*_timeline', desc=True)\n",
    "    for post in posts:\n",
    "        id_post = post.decode('utf-8')\n",
    "        id_user_post = redis_db.hget('post:' + str(id_post), 'userid').decode('utf-8')\n",
    "        name_user_post = str(get_user_id_or_name(id_user_post).decode('utf-8'))\n",
    "        timestamp_post = str(from_timestamp_to_date(int(redis_db.hget('post:' + str(id_post), 'timestamp').decode('utf-8'))))\n",
    "        message_post = redis_db.hget('post:' + str(id_post), 'message').decode('utf-8')\n",
    "        if(id_user_post == iduser or not tweets_propios):\n",
    "            print('- [' + timestamp_post + ']' + \n",
    "                  ' El usuario ' + name_user_post + \n",
    "                  ' twitteó: ' + message_post)\n",
    "    "
   ]
  },
  {
   "cell_type": "code",
   "execution_count": 66,
   "metadata": {},
   "outputs": [
    {
     "name": "stdout",
     "output_type": "stream",
     "text": [
      "- [28 Aug 2019 23:49:34] El usuario drshahrul80 twitteó: @Medtronic Here, here! Engage with your patients, even with just a smile. #morethanmedicine #thisiscancer #patientsaspeople\n",
      "- [15 Aug 2019 13:54:47] El usuario drshahrul80 twitteó: Our young patients are ready for the procedure and much less nervous, and their parents and guardians are also less worried! This is what #MoreThanMedicine at @NYCHealthSystem/@BellevueHosp looks like. /3\n",
      "- [03 Aug 2019 15:20:48] El usuario drshahrul80 twitteó: We hope to get some lovely weather on our annual 6 mile sponsored walk on Sat 12 Oct, so why not join us and register here if you would like to raise funds to help others live well with cancer. https://t.co/ddnrNCnBXa\n",
      "#letswalktogether #stomp2019 #morethanmedicine https://t.co/OhqLAw6EE5\n",
      "- [31 Jul 2019 14:04:40] El usuario drshahrul80 twitteó: Animal health solutions are so much #MorethanMedicine!\n",
      "Other examples of how we protect animal health ⬇️⬇️ https://t.co/9zqLhohGae\n",
      "- [29 Jul 2019 10:11:35] El usuario drshahrul80 twitteó: 🐕 66 million dogs\n",
      "🐈 74 million cats\n",
      "🐇 21 million rabbits\n",
      "\n",
      "We know you love your pets, here's how we can help you care for them\n",
      "#MorethanMedicine https://t.co/7bR5W9mbIE\n",
      "- [27 Jul 2019 19:48:46] El usuario drshahrul80 twitteó: @somedocs @ShikhaJainMD @DrJaimeFriedman @usnehal @Dr_Stepheny @SadiaFMD @DrCJohns @RoxanneSukolMD @AlexMMTri @DrCorriel #FOAMed. #FOAMcc. #MedEd primarily focused in #EmergencyMedicine. Being a good #human that prioritizes others' #success and #learning not just as a physician but in life as a whole! #morethanmedicine\n",
      "- [14 Jul 2019 22:07:19] El usuario drshahrul80 twitteó: No doubt that I have an incredible job in #EmergencyMedicine that is full of challenges and is beyond rewarding but weekends like this are a great reminder why we work as hard as we do. Love my #family!#morethanmedicine @emovereasy https://t.co/3tSLEmtuHF\n",
      "- [10 Jul 2019 22:03:38] El usuario drshahrul80 twitteó: SF Bay Area #cancer peeps, listen up: love &amp; parenting only become more complicated when you're a #cancer patient. Check out these 2 free workshops @UCSF_CRC. #thisiscancer #morethanmedicine https://t.co/RroWlnjTW3\n",
      "- [02 Jul 2019 14:35:39] El usuario drshahrul80 twitteó: Again-The My Special Aflac Duck that Cannes! #morethanmedicine \n",
      "Five Cannes Lions Campaigns We Liked: your winner revealed | PR Week https://t.co/6AgccDrxQg via @PRWeekUS\n"
     ]
    }
   ],
   "source": [
    "obtener_timeline('drshahrul80', True)"
   ]
  },
  {
   "cell_type": "code",
   "execution_count": null,
   "metadata": {},
   "outputs": [],
   "source": []
  }
 ],
 "metadata": {
  "kernelspec": {
   "display_name": "Python 3",
   "language": "python",
   "name": "python3"
  },
  "language_info": {
   "codemirror_mode": {
    "name": "ipython",
    "version": 3
   },
   "file_extension": ".py",
   "mimetype": "text/x-python",
   "name": "python",
   "nbconvert_exporter": "python",
   "pygments_lexer": "ipython3",
   "version": "3.8.2"
  }
 },
 "nbformat": 4,
 "nbformat_minor": 4
}
