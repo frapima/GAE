{
 "cells": [
  {
   "cell_type": "markdown",
   "metadata": {},
   "source": [
    "# TP2 - MongoDB - Ejercicio 2\n",
    "## Francisco Javier Piqueras Martínez"
   ]
  },
  {
   "cell_type": "markdown",
   "metadata": {},
   "source": [
    "Sistema Operativo: Mac OS\n",
    "\n",
    "El Trabajo Práctico se ha implementado con la API de MongoDB para Python **pymongo**. La decisión ha sido tomada por la facilidad que brinda Jupyter Notebooks para su realizaciuón, así como la facilidad para la documentación de cada paso."
   ]
  },
  {
   "cell_type": "markdown",
   "metadata": {},
   "source": [
    "### Conexión a la Base de Datos"
   ]
  },
  {
   "cell_type": "markdown",
   "metadata": {},
   "source": [
    "Creamos la conexión con la base de datos documental `ejercicio2`."
   ]
  },
  {
   "cell_type": "code",
   "execution_count": 1,
   "metadata": {},
   "outputs": [],
   "source": [
    "import pymongo\n",
    "import datetime\n",
    "from pymongo import MongoClient\n",
    "\n",
    "client = MongoClient(\"localhost\", 27017)"
   ]
  },
  {
   "cell_type": "markdown",
   "metadata": {},
   "source": [
    "> Todos los apartados de este ejercicio están realizados en este notebook, la memoria solamente incluye el enunciado del ejercicio."
   ]
  },
  {
   "cell_type": "markdown",
   "metadata": {},
   "source": [
    "### Base de datos\n",
    "En primer lugar, comprobamos que la base de datos `ejercicio2` y la colección `webs` se ha creado correctamente:"
   ]
  },
  {
   "cell_type": "code",
   "execution_count": 2,
   "metadata": {},
   "outputs": [
    {
     "data": {
      "text/plain": [
       "['admin', 'config', 'ejercicio2', 'local']"
      ]
     },
     "execution_count": 2,
     "metadata": {},
     "output_type": "execute_result"
    }
   ],
   "source": [
    "client.list_database_names()"
   ]
  },
  {
   "cell_type": "code",
   "execution_count": 3,
   "metadata": {},
   "outputs": [
    {
     "data": {
      "text/plain": [
       "['webs']"
      ]
     },
     "execution_count": 3,
     "metadata": {},
     "output_type": "execute_result"
    }
   ],
   "source": [
    "client.ejercicio2.list_collection_names()"
   ]
  },
  {
   "cell_type": "code",
   "execution_count": 4,
   "metadata": {},
   "outputs": [],
   "source": [
    "db = client.ejercicio2"
   ]
  },
  {
   "cell_type": "markdown",
   "metadata": {},
   "source": [
    "Antes de empezar, creamos una función que se encargue de mostrar los resultados por pantalla:"
   ]
  },
  {
   "cell_type": "code",
   "execution_count": 5,
   "metadata": {},
   "outputs": [],
   "source": [
    "def printResult(result):\n",
    "    for row in result:\n",
    "        print(row)"
   ]
  },
  {
   "cell_type": "markdown",
   "metadata": {},
   "source": [
    "**Consulta 1:** Número de sesiones (documentos) en los que se ha visitado la web “https://www.mikokoloko.com”. Nota: si una sesión incluye dos visitas solo se contará una vez."
   ]
  },
  {
   "cell_type": "code",
   "execution_count": 6,
   "metadata": {
    "scrolled": false
   },
   "outputs": [
    {
     "data": {
      "text/plain": [
       "17"
      ]
     },
     "execution_count": 6,
     "metadata": {},
     "output_type": "execute_result"
    }
   ],
   "source": [
    "query1 = db.webs.count_documents({'pags.url' : 'https://www.mikokoloko.com'})\n",
    "query1"
   ]
  },
  {
   "cell_type": "markdown",
   "metadata": {},
   "source": [
    "**Consulta 2:** Mostrar los distintos navegadores que se han utilizado en toda la colección."
   ]
  },
  {
   "cell_type": "code",
   "execution_count": 7,
   "metadata": {},
   "outputs": [
    {
     "data": {
      "text/plain": [
       "['Chrome', 'Explorer', 'firefox']"
      ]
     },
     "execution_count": 7,
     "metadata": {},
     "output_type": "execute_result"
    }
   ],
   "source": [
    "query2 = db.webs.distinct('navegador')\n",
    "query2"
   ]
  },
  {
   "cell_type": "markdown",
   "metadata": {},
   "source": [
    "**Consulta 3:** Mostrar únicamente el campo “navegador” de las sesiones realizadas por el usuario “Bertoldo” entre las fechas “20/02/2016” y “25/02/2016” (a las 00:00:00.000 horas en ambos casos). "
   ]
  },
  {
   "cell_type": "code",
   "execution_count": 8,
   "metadata": {
    "scrolled": false
   },
   "outputs": [
    {
     "name": "stdout",
     "output_type": "stream",
     "text": [
      "{'navegador': 'firefox'}\n",
      "{'navegador': 'firefox'}\n",
      "{'navegador': 'firefox'}\n",
      "{'navegador': 'firefox'}\n",
      "{'navegador': 'firefox'}\n",
      "{'navegador': 'firefox'}\n",
      "{'navegador': 'firefox'}\n",
      "{'navegador': 'firefox'}\n",
      "{'navegador': 'firefox'}\n",
      "{'navegador': 'firefox'}\n",
      "{'navegador': 'firefox'}\n",
      "{'navegador': 'firefox'}\n",
      "{'navegador': 'firefox'}\n",
      "{'navegador': 'firefox'}\n",
      "{'navegador': 'firefox'}\n",
      "{'navegador': 'firefox'}\n",
      "{'navegador': 'firefox'}\n"
     ]
    }
   ],
   "source": [
    "query3 = db.webs.find({\n",
    "    'nombre': 'Bertoldo', \n",
    "    '$or': [\n",
    "        {'fecha' : {\"$gt\":  datetime.datetime(2016, 2, 20, 0, 0, 0)}},\n",
    "        {'fecha' : {\"$lt\": datetime.datetime(2016, 2, 25, 0, 0, 0)}}\n",
    "    ]\n",
    "}, {'navegador': 1, '_id': 0})\n",
    "\n",
    "printResult(query3)"
   ]
  },
  {
   "cell_type": "markdown",
   "metadata": {},
   "source": [
    "**Agregación 1:** Obtener el número de sesiones por cada navegador, ordenadas en orden ascendente. La salida mostrará, para cada navegador, un \"_id\" que contiene el nombre del navegador, y un campo \"total\" con el número de sesiones de dicho navegador. "
   ]
  },
  {
   "cell_type": "code",
   "execution_count": 9,
   "metadata": {},
   "outputs": [
    {
     "name": "stdout",
     "output_type": "stream",
     "text": [
      "{'_id': 'Chrome', 'total': 14}\n",
      "{'_id': 'firefox', 'total': 17}\n",
      "{'_id': 'Explorer', 'total': 20}\n"
     ]
    }
   ],
   "source": [
    "agregation1 = db.webs.aggregate([\n",
    "    {'$group': {'_id': '$navegador', 'total': {'$sum': 1}}},\n",
    "    {'$sort': {'total': 1}}\n",
    "])\n",
    "printResult(agregation1)"
   ]
  },
  {
   "cell_type": "markdown",
   "metadata": {},
   "source": [
    "**Agregación 2:** Obtener la persona con mayor número de sesiones totales en la colección. La salida mostrará para cada persona (sólo 1) un \"_id\" conteniendo el nombre de la persona y un campo \"total\" con el número de sesiones totales."
   ]
  },
  {
   "cell_type": "code",
   "execution_count": 10,
   "metadata": {},
   "outputs": [
    {
     "name": "stdout",
     "output_type": "stream",
     "text": [
      "{'_id': 'Herminia', 'total': 20}\n"
     ]
    }
   ],
   "source": [
    "agregation2 = db.webs.aggregate([\n",
    "    {'$group': {'_id': '$nombre', 'total': {'$sum': 1}}},\n",
    "    {'$sort': {'total': -1}},\n",
    "    {'$limit': 1}\n",
    "])\n",
    "printResult(agregation2)"
   ]
  },
  {
   "cell_type": "markdown",
   "metadata": {},
   "source": [
    "**Agregación 3:** Para cada persona indicar el número de URLs visitadas durante más de 100 segundos (se cuentan las repeticiones). La salida mostrará para cada persona un \"_id\" conteniendo el nombre de la persona y un campo \"num\" con el número de URLs. Pista: utilizar la opción $unwind de aggregate."
   ]
  },
  {
   "cell_type": "code",
   "execution_count": 11,
   "metadata": {},
   "outputs": [
    {
     "name": "stdout",
     "output_type": "stream",
     "text": [
      "{'_id': 'Aniceto', 'num': 35}\n",
      "{'_id': 'Herminia', 'num': 40}\n",
      "{'_id': 'Bertoldo', 'num': 51}\n"
     ]
    }
   ],
   "source": [
    "agregation3 = db.webs.aggregate([\n",
    "    {'$unwind': '$pags'},\n",
    "    {'$match': {'pags.segs': {'$gt': 100}}},\n",
    "    {'$group': {'_id': '$nombre', 'num': {'$sum': 1}}}\n",
    "])\n",
    "printResult(agregation3)"
   ]
  },
  {
   "cell_type": "markdown",
   "metadata": {},
   "source": [
    "**Agregación 4:** Nombre de la persona que visita más páginas de media por sesión. La salida mostrará un \"_id\" conteniendo el nombre de la persona y un campo \"media\" con el valor de la media de páginas visitadas. Pistas: calcular el número de URLs para cada sesión y luego calcular la media de ese dato para cada persona / No hace falta utilizar $unwind. "
   ]
  },
  {
   "cell_type": "code",
   "execution_count": 12,
   "metadata": {},
   "outputs": [
    {
     "name": "stdout",
     "output_type": "stream",
     "text": [
      "{'_id': 'Bertoldo', 'media': 4.411764705882353}\n"
     ]
    }
   ],
   "source": [
    "agregation4 = db.webs.aggregate([\n",
    "    {'$project': {'_id': 0, 'nombre': '$nombre', 'media': {'$size': '$pags'}}},\n",
    "    {'$group': {'_id': '$nombre', 'media': {'$avg': '$media'}}},\n",
    "    {'$sort': {'media': -1}},\n",
    "    {'$limit': 1}\n",
    "])\n",
    "printResult(agregation4)"
   ]
  },
  {
   "cell_type": "markdown",
   "metadata": {},
   "source": [
    "**Agregación 5:** Calcular el total de sesiones con el navegador \"Explorer\" en 2016. La salida mostrará el \"_id\" conteniendo el año (2016) y un campo \"total\" con el número total de sesiones. Pista: para obtener el año de una fecha se puede utilizar `{$year:\"$fecha\"}`\n"
   ]
  },
  {
   "cell_type": "code",
   "execution_count": 41,
   "metadata": {},
   "outputs": [
    {
     "name": "stdout",
     "output_type": "stream",
     "text": [
      "{'_id': 2016, 'total': 10}\n"
     ]
    }
   ],
   "source": [
    "agregation5 = db.webs.aggregate([\n",
    "    {'$project': {'_id': 0, 'navegador': '$navegador', 'fecha': {'$year': '$fecha'}}},\n",
    "    {'$match': {'$and':[{'fecha': 2016}, {'navegador': 'Explorer'}]}},\n",
    "    {'$group': {'_id': '$fecha', 'total': {'$sum': 1}}}\n",
    "])\n",
    "printResult(agregation5)"
   ]
  },
  {
   "cell_type": "markdown",
   "metadata": {},
   "source": [
    "**Agregación 6:**  Para cada persona calcular el tiempo acumulado de todas las URLs visitadas, en minutos. La salida mostrará un campo “nombre” con el nombre de la persona, y un campo “tiempomin” con el tiempo acumulado. La salida estará́ ordenada alfabéticamente por los nombres de los usuarios. Pista: utilizar la opción $unwind de aggregate."
   ]
  },
  {
   "cell_type": "code",
   "execution_count": 33,
   "metadata": {},
   "outputs": [
    {
     "name": "stdout",
     "output_type": "stream",
     "text": [
      "{'nombre': 'Aniceto', 'tiempomin': 329.35}\n",
      "{'nombre': 'Bertoldo', 'tiempomin': 263.3333333333333}\n",
      "{'nombre': 'Herminia', 'tiempomin': 551.6666666666666}\n"
     ]
    }
   ],
   "source": [
    "agregation6 = db.webs.aggregate([\n",
    "    {'$unwind': '$pags'},\n",
    "    {'$project': {'_id': 0, 'nombre': '$nombre', 'tiempo': {'$divide': [ '$pags.segs', 60 ]}}},\n",
    "    {'$group': {'_id': '$nombre', 'tiempomin': {'$sum': '$tiempo'}}},\n",
    "    {'$project': {'_id':0, 'nombre': '$_id', 'tiempomin': '$tiempomin'}},\n",
    "    {'$sort': {'nombre': 1}}\n",
    "])\n",
    "printResult(agregation6)"
   ]
  },
  {
   "cell_type": "markdown",
   "metadata": {},
   "source": [
    "**Agregación 7:** Obtener el nombre de las personas que han visitado alguna página que comience por “https”. La salida mostrará para cada persona únicamente el campo “nombre” que contendrá su nombre. Pista: utilizar el operador de proyección $substr"
   ]
  },
  {
   "cell_type": "code",
   "execution_count": 46,
   "metadata": {},
   "outputs": [
    {
     "name": "stdout",
     "output_type": "stream",
     "text": [
      "{'nombre': 'Aniceto'}\n",
      "{'nombre': 'Bertoldo'}\n"
     ]
    }
   ],
   "source": [
    "agregation7 = db.webs.aggregate([\n",
    "    {'$unwind': '$pags'},\n",
    "    {'$project': {'nombre': '$nombre', 'url': {'$substr': ['$pags.url', 0, 5]}}},\n",
    "    {'$match': {'url': 'https'}},\n",
    "    {'$group': {'_id': '$nombre'}},\n",
    "    {'$project': {'nombre':'$_id', '_id':0}}\n",
    "])\n",
    "printResult(agregation7)"
   ]
  },
  {
   "cell_type": "code",
   "execution_count": null,
   "metadata": {},
   "outputs": [],
   "source": []
  }
 ],
 "metadata": {
  "kernelspec": {
   "display_name": "Python 3",
   "language": "python",
   "name": "python3"
  },
  "language_info": {
   "codemirror_mode": {
    "name": "ipython",
    "version": 3
   },
   "file_extension": ".py",
   "mimetype": "text/x-python",
   "name": "python",
   "nbconvert_exporter": "python",
   "pygments_lexer": "ipython3",
   "version": "3.8.2"
  }
 },
 "nbformat": 4,
 "nbformat_minor": 4
}
