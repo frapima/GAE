{
 "cells": [
  {
   "cell_type": "markdown",
   "metadata": {},
   "source": [
    "# TP2 - MongoDB - Ejercicio 1\n",
    "## Francisco Javier Piqueras Martínez"
   ]
  },
  {
   "cell_type": "markdown",
   "metadata": {},
   "source": [
    "Sistema Operativo: Mac OS\n",
    "\n",
    "El Trabajo Práctico se ha implementado con la API de MongoDB para Python **pymongo**. La decisión ha sido tomada por la facilidad que brinda Jupyter Notebooks para su realizaciuón, así como la facilidad para la documentación de cada paso."
   ]
  },
  {
   "cell_type": "markdown",
   "metadata": {},
   "source": [
    "### Conexión a la Base de Datos"
   ]
  },
  {
   "cell_type": "markdown",
   "metadata": {},
   "source": [
    "Creamos la conexión a la base de datos y le damos el nombre de `newsBlog`."
   ]
  },
  {
   "cell_type": "code",
   "execution_count": 1,
   "metadata": {},
   "outputs": [],
   "source": [
    "import pymongo\n",
    "import datetime\n",
    "from pymongo import MongoClient, IndexModel,  ASCENDING, DESCENDING\n",
    "\n",
    "client = MongoClient('localhost', 27017)\n",
    "db = client.newsBlog"
   ]
  },
  {
   "cell_type": "markdown",
   "metadata": {},
   "source": [
    "> Todos los apartados de este ejercicio están realizados y explicados en la memoria. En este notebook se realiza la parte práctica."
   ]
  },
  {
   "cell_type": "markdown",
   "metadata": {},
   "source": [
    "### Creación de índices"
   ]
  },
  {
   "cell_type": "markdown",
   "metadata": {},
   "source": [
    "En primer lugar, creamos los índices de la colección `users`"
   ]
  },
  {
   "cell_type": "code",
   "execution_count": 2,
   "metadata": {},
   "outputs": [
    {
     "data": {
      "text/plain": [
       "['username_1_twitter_username_1_contact.postal_code_1']"
      ]
     },
     "execution_count": 2,
     "metadata": {},
     "output_type": "execute_result"
    }
   ],
   "source": [
    "indexUsers = IndexModel([(\"username\", ASCENDING), (\"twitter_username\", ASCENDING), (\"contact.postal_code\", ASCENDING)])\n",
    "\n",
    "db.users.create_indexes([indexUsers])"
   ]
  },
  {
   "cell_type": "markdown",
   "metadata": {},
   "source": [
    "Seguidamente, creamos los índices de la colección `news`"
   ]
  },
  {
   "cell_type": "code",
   "execution_count": 3,
   "metadata": {},
   "outputs": [
    {
     "data": {
      "text/plain": [
       "['author_username_1_publication_date_-1_contact.postal_code_1']"
      ]
     },
     "execution_count": 3,
     "metadata": {},
     "output_type": "execute_result"
    }
   ],
   "source": [
    "indexNews = IndexModel([(\"author_username\", ASCENDING), (\"publication_date\", DESCENDING), (\"contact.postal_code\", ASCENDING)])\n",
    "\n",
    "db.news.create_indexes([indexNews])"
   ]
  },
  {
   "cell_type": "markdown",
   "metadata": {},
   "source": [
    "### Inserciones"
   ]
  },
  {
   "cell_type": "markdown",
   "metadata": {},
   "source": [
    "Insertamos ahora dos `Users`(y a su vez, dos `Contacts`, uno de tipo `Addresse` y el otro de tipo `Phone`)"
   ]
  },
  {
   "cell_type": "code",
   "execution_count": 4,
   "metadata": {},
   "outputs": [
    {
     "data": {
      "text/plain": [
       "<pymongo.results.InsertManyResult at 0x104e4eb00>"
      ]
     },
     "execution_count": 4,
     "metadata": {},
     "output_type": "execute_result"
    }
   ],
   "source": [
    "db.users.insert_many([\n",
    "    {\n",
    "      \"name\": \"Javier Piqueras\",\n",
    "      \"username\": \"javipiquerasm\",\n",
    "      \"twitter_username\": \"javipiquerasm\",\n",
    "      \"description\": \"Hi, my name is Javi, and I'm here to read all the interesting news related Covid-19 topic\",\n",
    "      \"contact\": {\n",
    "          \"phone_numbers\": [\"655601565\", \"65894523\", \"914568759\"]\n",
    "      }\n",
    "    },\n",
    "    {\n",
    "      \"name\": \"Marina Coll\",\n",
    "      \"username\": \"marinucoll\",\n",
    "      \"twitter_username\": \"marinu_coll\",\n",
    "      \"description\": \"Hola, soy Marina! Encantada de conoceros :)\",\n",
    "      \"contact\": {\n",
    "          \"street\": \"C/ Donoso Cortés\",\n",
    "          \"number\": \"9\",\n",
    "          \"door\": \"B\",\n",
    "          \"postal_code\": \"28015\",\n",
    "          \"city\": \"Madrid\"\n",
    "      }\n",
    "    }\n",
    "])"
   ]
  },
  {
   "cell_type": "markdown",
   "metadata": {},
   "source": [
    "Seguidamente, insertamos dos `News`(y dos `Comments`)"
   ]
  },
  {
   "cell_type": "code",
   "execution_count": 5,
   "metadata": {},
   "outputs": [
    {
     "data": {
      "text/plain": [
       "<pymongo.results.InsertManyResult at 0x104e67100>"
      ]
     },
     "execution_count": 5,
     "metadata": {},
     "output_type": "execute_result"
    }
   ],
   "source": [
    "db.news.insert_many([\n",
    "    {\n",
    "      \"title\": \"Bajan el número de casos nuevos del coronavirus\",\n",
    "      \"body\": \"En las últimas 24 horas, el número de nuevos confirmados por coronavirus en España ha descendido un 4.4%\",\n",
    "      \"publication_date\": datetime.datetime.now(),\n",
    "      \"tags\": [\"virus\", \"coronavirus\", \"covid19\"],\n",
    "      \"author_username\": \"javipiquerasm\",\n",
    "      \"comments\": [\n",
    "         {\n",
    "            \"content\": \"Buenísimo artículo, ¡muchas gracias pro compartirlo!\",\n",
    "            \"publication_date\": datetime.datetime.now(),\n",
    "            \"author_username\": \"marinucoll\"\n",
    "        }\n",
    "      ]\n",
    "    },\n",
    "    {\n",
    "      \"title\": \"La Casa de Papel Parte 4\",\n",
    "      \"body\": \"Desde hoy, la casa de papel parte 43, ya está disponible en Netflix\",\n",
    "      \"publication_date\": datetime.datetime(2020, 4, 10, 6, 0, 0),\n",
    "      \"tags\": [\"series\", \"netflix\"],\n",
    "      \"author_username\": \"marinucoll\",\n",
    "      \"comments\": [\n",
    "         {\n",
    "            \"content\": \"GOOOOOOOOOO!!!!\",\n",
    "            \"publication_date\": datetime.datetime.now(),\n",
    "            \"author_username\": \"javipiquerasm\"\n",
    "        }\n",
    "      ]\n",
    "    }\n",
    "])"
   ]
  },
  {
   "cell_type": "code",
   "execution_count": null,
   "metadata": {},
   "outputs": [],
   "source": []
  }
 ],
 "metadata": {
  "kernelspec": {
   "display_name": "Python 3",
   "language": "python",
   "name": "python3"
  },
  "language_info": {
   "codemirror_mode": {
    "name": "ipython",
    "version": 3
   },
   "file_extension": ".py",
   "mimetype": "text/x-python",
   "name": "python",
   "nbconvert_exporter": "python",
   "pygments_lexer": "ipython3",
   "version": "3.8.2"
  }
 },
 "nbformat": 4,
 "nbformat_minor": 4
}
